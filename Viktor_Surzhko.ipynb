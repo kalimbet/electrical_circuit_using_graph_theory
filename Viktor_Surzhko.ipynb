{
 "cells": [
  {
   "cell_type": "markdown",
   "metadata": {},
   "source": [
    "# Problem\n",
    "This circuit has the following data. And we must find the unknown:\n",
    "**i1; i2; i3; i4; i5**\n",
    "### To solve this problem, you need to use graphs!"
   ]
  },
  {
   "cell_type": "markdown",
   "metadata": {},
   "source": [
    "<img src=\"1.png\" />"
   ]
  },
  {
   "cell_type": "markdown",
   "metadata": {},
   "source": [
    "# Solution"
   ]
  },
  {
   "cell_type": "code",
   "execution_count": 1,
   "metadata": {},
   "outputs": [],
   "source": [
    "import networkx as nx"
   ]
  },
  {
   "cell_type": "code",
   "execution_count": 2,
   "metadata": {},
   "outputs": [],
   "source": [
    "R1 = 3; R2 = 4; R3 = 5; R4= 2; R5 = 6;\n",
    "V1 = 2; V2 = 2;\n"
   ]
  },
  {
   "cell_type": "code",
   "execution_count": 4,
   "metadata": {},
   "outputs": [
    {
     "name": "stdout",
     "output_type": "stream",
     "text": [
      "Shortest path for V1+ =  ['V1+', 'E', 'R1', 'A', 'R2', 'D', 'K', 'V1-']\n",
      "Longest path for V1+ =  ['V1+', 'E', 'R1', 'A', 'R3', 'B', 'R4', 'C', 'D', 'K', 'V1-']\n",
      "Shortest path for V2+ =  ['V2+', 'F', 'R5', 'B', 'R4', 'C', 'L', 'V2-']\n",
      "\n",
      "Result:\n",
      "I1 =  0.2857142857142857\n",
      "I2 =  0.2\n",
      "I4 =  0.25\n",
      "\n",
      "I3 =  0.08571428571428569\n",
      "I5 =  0.45\n",
      "\n",
      "The algebraic sum of all currents in the node is zero:\n",
      "I1 - I2 - I3 =  0.0\n",
      "I2 + I4 - I5 =  0.0\n"
     ]
    },
    {
     "data": {
      "image/png": "[encoded data removed]",
      "text/plain": [
       "<Figure size 432x288 with 1 Axes>"
      ]
     },
     "metadata": {},
     "output_type": "display_data"
    }
   ],
   "source": [
    "positions = {'V1+' :(5,1), 'V1-':(5,-1), 'E' :(5,3), 'R1':(10, 3), 'A' :(15,3), 'R3' :(20,3),  'B' :(25,3), 'R5':(30, 3),  'F' :(35,3),             \n",
    "             'R4':(25,0), 'D' :(15,-3), 'R2':(15,0),\n",
    "             'L' :(35,-3), 'C':(25,-3),  'K' :(5,-3), \n",
    "             'V2+':(35,1),  'V2-':(35,-1)}\n",
    "\n",
    "\n",
    "node_links = {('V1+', 'E'): 0, ('K', 'V1-'): 0,\n",
    "              \n",
    "              ('E', 'R1'): 0, ('R1', 'A'): 0,  ('A', 'R3'): 0, ('R3', 'B'): 0, ( 'F','R5'): 0, ( 'R5','B'): 0, \n",
    "              \n",
    "              ('A', 'R2'): 0, ('R2', 'D'): 0, ('B','R4'): 0, ('R4','C'): 0,   \n",
    "              \n",
    "              ('C', 'L'): 0, ('D', 'K'): 0, ('C', 'D'): 0,\n",
    "              \n",
    "              ('V2+', 'F',): 0,  ('L','V2-'): 0,}\n",
    "\n",
    "\n",
    "\n",
    "G2 = nx.DiGraph();G2.add_nodes_from(positions); G2.add_edges_from(node_links); \n",
    "\n",
    "G2.nodes['V1+']['vol'] = V1\n",
    "G2.nodes['V2+']['vol'] = V2\n",
    "G2.nodes['R1']['res'] = R1\n",
    "G2.nodes['R2']['res'] = R2\n",
    "G2.nodes['R3']['res'] = R3\n",
    "G2.nodes['R4']['res'] = R4\n",
    "G2.nodes['R5']['res'] = R5\n",
    "\n",
    "nx.draw(G2, positions, node_color = 'C1', node_shape = 'o', node_size = 1000, with_labels = True)\n",
    "nx.draw_networkx_edge_labels(G2, positions, edge_labels = node_links);\n",
    "\n",
    "cycle1 = []; cycle2 = []; cycle3 = []\n",
    "\n",
    "\n",
    "cycle1.extend(nx.bidirectional_shortest_path(G2, 'V1+', 'V1-'))\n",
    "cycle2.extend(nx.dag_longest_path(G2, weight='weight'))\n",
    "cycle3.extend(nx.shortest_path(G2, 'V2+', 'V2-'))\n",
    "\n",
    "print('Shortest path for V1+ = ', cycle1)\n",
    "print('Longest path for V1+ = ', cycle2)\n",
    "print('Shortest path for V2+ = ', cycle3)\n",
    "print()\n",
    "\n",
    "def calcOhmsLaw(n):\n",
    "    res = nx.get_node_attributes(G2,'res')\n",
    "    vol = nx.get_node_attributes(G2,'vol')\n",
    "    resList = []\n",
    "    getRes = []\n",
    "    volList = []\n",
    "    getVol = []\n",
    "    \n",
    "    for i in n:\n",
    "        resList.append(res.get(i))\n",
    "        volList.append(vol.get(i))\n",
    "\n",
    "    for i in resList:\n",
    "        if i is not None:\n",
    "             getRes.append(i)\n",
    "\n",
    "    for i in volList:\n",
    "        if i is not None:\n",
    "             getVol.append(i)\n",
    "                \n",
    "    result = sum(getVol) / sum(getRes)\n",
    "    \n",
    "    return result\n",
    "    \n",
    "I1 = calcOhmsLaw(cycle1)\n",
    "I2 = calcOhmsLaw(cycle2)\n",
    "I4 = calcOhmsLaw(cycle3)\n",
    "I3 = I1 - I2\n",
    "I5 = I4 + I2\n",
    "\n",
    "a = I1 - I2 - I3\n",
    "b = I2 + I4 - I5\n",
    "\n",
    "print('Result:')\n",
    "print('I1 = ', I1); print('I2 = ', I2); print('I4 = ', I4)\n",
    "print()\n",
    "print('I3 = ', I3); print('I5 = ', I5)\n",
    "print()\n",
    "\n",
    "print('The algebraic sum of all currents in the node is zero:')\n",
    "print('I1 - I2 - I3 = ', a)\n",
    "print('I2 + I4 - I5 = ', b)"
   ]
  },
  {
   "cell_type": "markdown",
   "metadata": {},
   "source": [
    "# Result"
   ]
  },
  {
   "cell_type": "code",
   "execution_count": 5,
   "metadata": {},
   "outputs": [
    {
     "data": {
      "image/png": "[encoded data removed]",
      "text/plain": [
       "<Figure size 432x288 with 1 Axes>"
      ]
     },
     "metadata": {},
     "output_type": "display_data"
    }
   ],
   "source": [
    "positions = {'V1+' :(5,1), 'V1-':(5,-1), 'E' :(5,3),  'A' :(15,3),  'B' :(25,3),  'F' :(35,3),             \n",
    "              'D' :(15,-3),\n",
    "             'L' :(35,-3), 'C':(25,-3),  'K' :(5,-3), \n",
    "             'V2+':(35,1),  'V2-':(35,-1)}\n",
    "\n",
    "node_links = {('V1+', 'E'): round(I1,3), ('K', 'V1-'): round(I1,3),\n",
    "              \n",
    "              ('E', 'A'): round(I1,3), ('A', 'B'): round(I2,3), ( 'F','B'): round(I4,3), \n",
    "              \n",
    "              ('A', 'D'): round(I3,3), ('B','C'): round(I5,3),   \n",
    "              \n",
    "              ('C', 'L'): round(I4,3), ('D', 'K'): round(I1,3), ('C', 'D'): round(I2,3),\n",
    "              \n",
    "              ('V2+', 'F',): round(I4,3),  ('L','V2-'): round(I4,3),}\n",
    "\n",
    "\n",
    "\n",
    "G1 = nx.DiGraph();G1.add_nodes_from(positions); G1.add_edges_from(node_links); \n",
    "nx.draw(G1, positions, node_color = 'C2', node_shape = 'o', node_size = 1000, with_labels = True)\n",
    "nx.draw_networkx_edge_labels(G1, positions, edge_labels = node_links);"
   ]
  },
  {
   "cell_type": "markdown",
   "metadata": {},
   "source": [
    "# Prepared by: Viktor Surzhko"
   ]
  }
 ],
 "metadata": {
  "kernelspec": {
   "display_name": "Python 3",
   "language": "python",
   "name": "python3"
  },
  "language_info": {
   "codemirror_mode": {
    "name": "ipython",
    "version": 3
   },
   "file_extension": ".py",
   "mimetype": "text/x-python",
   "name": "python",
   "nbconvert_exporter": "python",
   "pygments_lexer": "ipython3",
   "version": "3.7.1"
  }
 },
 "nbformat": 4,
 "nbformat_minor": 2
}
